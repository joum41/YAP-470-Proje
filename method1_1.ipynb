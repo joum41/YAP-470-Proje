{
 "cells": [
  {
   "cell_type": "code",
   "execution_count": null,
   "id": "c3939806",
   "metadata": {},
   "outputs": [],
   "source": [
    "#İmportlar\n",
    "import os\n",
    "import cv2\n",
    "import numpy as np\n",
    "import scipy.io\n",
    "from joblib import load,dump\n",
    "from skimage.feature import hog\n",
    "from sklearn.decomposition import PCA\n",
    "from sklearn.svm import SVC, SVR\n",
    "from sklearn.neural_network import MLPClassifier, MLPRegressor\n",
    "from sklearn.ensemble import RandomForestClassifier, RandomForestRegressor\n",
    "from sklearn.model_selection import train_test_split, cross_val_score\n",
    "from sklearn.metrics import mean_absolute_error\n",
    "from tqdm import tqdm\n"
   ]
  },
  {
   "cell_type": "code",
   "execution_count": 2,
   "id": "5755e9ee",
   "metadata": {},
   "outputs": [],
   "source": [
    "#Parametreler\n",
    "IMAGE_SIZE = (128, 128)\n",
    "HOG_PIXELS_PER_CELL = (16, 16)\n",
    "HOG_CELLS_PER_BLOCK = (2, 2)\n",
    "PCA_COMPONENTS = 100\n",
    "SVM_KERNEL = 'rbf'\n",
    "SVM_C = 1.0\n",
    "SVR_C = 1.0"
   ]
  },
  {
   "cell_type": "code",
   "execution_count": null,
   "id": "b05ab60a",
   "metadata": {},
   "outputs": [],
   "source": [
    "#UTKFace için veri yükleme fonksiyonu\n",
    "#bu kodu chatgpt yardımıyla yazdım.\n",
    "def load_utkface(folder):\n",
    "    X, y_age, y_gender = [], [], []\n",
    "    for fname in os.listdir(folder):\n",
    "        if not fname.lower().endswith('.jpg'):\n",
    "            continue\n",
    "        parts = fname.split('_')\n",
    "        if len(parts) < 2 or not parts[0].isdigit() or not parts[1].isdigit():\n",
    "            print(f\"Atlandı (geçersiz dosya ismi): {fname}\")\n",
    "            continue\n",
    "        age = int(parts[0])\n",
    "        gender = int(parts[1])\n",
    "        img = cv2.imread(os.path.join(folder, fname))\n",
    "        if img is None:\n",
    "            print(f\"Atlandı (görüntü yüklenemedi): {fname}\")\n",
    "            continue\n",
    "        img = cv2.cvtColor(img, cv2.COLOR_BGR2GRAY)\n",
    "        img = cv2.resize(img, IMAGE_SIZE)\n",
    "        X.append(img)\n",
    "        y_age.append(age)\n",
    "        y_gender.append(gender)\n",
    "    print(len(X))\n",
    "    return np.array(X), np.array(y_age), np.array(y_gender)\n",
    "\n",
    "# Zaten oluşturulduğu için komut satırına aldım\n",
    "\n",
    "# X, y_age, y_gen = load_utkface(\"data(utk)\")\n",
    "# X_train, X_test, y_age_train, y_age_test, y_gen_train, y_gen_test = train_test_split(X, y_age, y_gen, test_size=0.2, random_state=42)\n",
    "# np.save(\"X_train_utkface.npy\", X_train)\n",
    "# np.save(\"y_age_train_utkface.npy\", y_age_train)\n",
    "# np.save(\"y_gender_train_utkface.npy\", y_gen_train)\n",
    "# Test setini kaydet\n",
    "# np.save(\"X_test_utkface.npy\", X_test)\n",
    "# np.save(\"y_age_test_utkface.npy\", y_age_test)\n",
    "# np.save(\"y_gender_test_utkface.npy\", y_gen_test)"
   ]
  },
  {
   "cell_type": "code",
   "execution_count": null,
   "id": "d2d1d085",
   "metadata": {},
   "outputs": [],
   "source": [
    "#Mat dosyasından veri okuma\n",
    "#Bu kodu chatgpt yardımıyla yazdım.\n",
    "def load_from_mat(mat_path, image_root, max_samples=None, name='imdb'):\n",
    "    data = scipy.io.loadmat(mat_path)\n",
    "\n",
    "    image_paths = data[name][0][0][2][0] \n",
    "    dob         = data[name][0][0][0][0]\n",
    "    photo_taken = data[name][0][0][1][0]\n",
    "    gender      = data[name][0][0][3][0]\n",
    "    X, y_age, y_gender = [], [], []\n",
    "\n",
    "    for i in tqdm(range(len(image_paths)), desc=f\"Yükleniyor: {name}\"):\n",
    "        if np.isnan(gender[i]) or np.isnan(dob[i]) or np.isnan(photo_taken[i]):\n",
    "            continue\n",
    "\n",
    "        gen = int(gender[i])\n",
    "\n",
    "        age = int(photo_taken[i] - dob[i])\n",
    "\n",
    "        img_path = os.path.join(image_root, image_paths[i][0])\n",
    "        if not os.path.exists(img_path):\n",
    "            continue\n",
    "\n",
    "        img = cv2.imread(img_path)\n",
    "        if img is None:\n",
    "            continue    \n",
    "\n",
    "        img = cv2.cvtColor(img, cv2.COLOR_BGR2GRAY)\n",
    "        img = cv2.resize(img, IMAGE_SIZE)\n",
    "\n",
    "        X.append(img)\n",
    "        y_age.append(age)\n",
    "        y_gender.append(gen)\n",
    "\n",
    "        if max_samples and len(X) >= max_samples:\n",
    "            break\n",
    "\n",
    "    return X, y_age, y_gender\n",
    "\n",
    "# IMDB + WIKI birleştirme\n",
    "def load_imdb_and_wiki(total_samples=20000):\n",
    "    X1, y_age1, y_gender1 = load_from_mat(\n",
    "        mat_path='imdb_crop/imdb.mat',\n",
    "        image_root='imdb_crop',\n",
    "        name='imdb',\n",
    "        max_samples=None\n",
    "    )\n",
    "\n",
    "    X2, y_age2, y_gender2 = load_from_mat(\n",
    "        mat_path='wiki_crop/wiki.mat',\n",
    "        image_root='wiki_crop',\n",
    "        name='wiki',\n",
    "        max_samples=None\n",
    "    )\n",
    "\n",
    "    # Birleştir\n",
    "    X_all = np.array(X1 + X2)\n",
    "    y_age_all = np.array(y_age1 + y_age2)\n",
    "    y_gender_all = np.array(y_gender1 + y_gender2)\n",
    "\n",
    "    # Karıştır ve örnekle\n",
    "    indices = np.random.permutation(len(X_all))[:total_samples]\n",
    "    X_sub = [X_all[i] for i in indices]\n",
    "    y_age_sub = [y_age_all[i] for i in indices]\n",
    "    y_gender_sub = [y_gender_all[i] for i in indices]\n",
    "\n",
    "    print(f\"Alt küme boyutu: {len(X_sub)} (IMDB + WIKI)\")\n",
    "\n",
    "    return X_sub, y_age_sub, y_gender_sub\n",
    "\n",
    "# Zaten oluşturulduğu için komut satırına aldım\n",
    "#Eğitim setini kaydet\n",
    "# X, y_age, y_gen = load_imdb_and_wiki()\n",
    "# X_train, X_test, y_age_train, y_age_test, y_gen_train, y_gen_test = train_test_split(X, y_age, y_gen, test_size=0.2, random_state=42)\n",
    "# np.save(\"X_train_imdbwiki.npy\", X_train)\n",
    "# np.save(\"y_age_train_imdbwiki.npy\", y_age_train)\n",
    "# np.save(\"y_gender_train_imdbwiki.npy\", y_gen_train)\n",
    "# Test setini kaydet\n",
    "# np.save(\"X_test_imdbwiki.npy\", X_test)\n",
    "# np.save(\"y_age_test_imdbwiki.npy\", y_age_test)\n",
    "# np.save(\"y_gender_test_imdbwiki.npy\", y_gen_test)\n"
   ]
  },
  {
   "cell_type": "code",
   "execution_count": 5,
   "id": "3774a1d0",
   "metadata": {},
   "outputs": [],
   "source": [
    "def extract_hog_features(images):\n",
    "    feats = []\n",
    "    for img in images:\n",
    "        h = hog(img,\n",
    "                pixels_per_cell=HOG_PIXELS_PER_CELL,\n",
    "                cells_per_block=HOG_CELLS_PER_BLOCK,\n",
    "                feature_vector=True)\n",
    "        feats.append(h)\n",
    "    return np.array(feats)"
   ]
  },
  {
   "cell_type": "code",
   "execution_count": 6,
   "id": "acab022c",
   "metadata": {},
   "outputs": [],
   "source": [
    "def hog_and_pca(X, y_age, y_gender, name='dataset'):\n",
    "    X_hog = extract_hog_features(X)\n",
    "    pca = PCA(n_components=100)\n",
    "    X_pca = pca.fit_transform(X_hog)\n",
    "    dump(pca, f'models/model1_1/pca_{name}.joblib')\n",
    "    print(f\"pca_{name}.joblib kaydedildi.\")"
   ]
  },
  {
   "cell_type": "code",
   "execution_count": 7,
   "id": "e5898b76",
   "metadata": {},
   "outputs": [],
   "source": [
    "def train_and_save_models( X_train_pca, X_test_pca, gen_train, gen_test, age_train, age_test, name='dataset'):\n",
    "\n",
    "    print(f\"\\n=== {name.upper()} - SVM / SVR ===\")\n",
    "    svm = SVC(kernel=SVM_KERNEL, C=SVM_C, random_state=42)\n",
    "    svr = SVR(kernel=SVM_KERNEL, C=SVR_C)\n",
    "\n",
    "    cv_acc = cross_val_score(svm, X_train_pca, gen_train, cv=5)\n",
    "    print(\"SVM Gender CV Accuracy:\", np.mean(cv_acc))\n",
    "    cv_mae = cross_val_score(svr, X_train_pca, age_train, cv=5, scoring='neg_mean_absolute_error')\n",
    "    print(\"SVR Age CV MAE:\", -np.mean(cv_mae))\n",
    "\n",
    "    svm.fit(X_train_pca, gen_train)\n",
    "    svr.fit(X_train_pca, age_train)\n",
    "    test_acc = svm.score(X_test_pca, gen_test)\n",
    "    test_mae = np.mean(np.abs(svr.predict(X_test_pca) - age_test))\n",
    "    print(\"SVM Gender Test Accuracy:\", test_acc)\n",
    "    print(\"SVR Age Test MAE:\", test_mae)\n",
    "\n",
    "    dump(svm, f\"models/model1_1/svm_gender_{name}.joblib\")\n",
    "    dump(svr, f\"models/model1_1/svr_age_{name}.joblib\")\n",
    "    print(f\"{name}: SVM & SVR modelleri kaydedildi.\")\n",
    "\n",
    "    print(f\"\\n=== {name.upper()} - MLP ===\")\n",
    "    mlp_clf = MLPClassifier(hidden_layer_sizes=(100,), activation='relu', max_iter=1000, random_state=42)\n",
    "    mlp_reg = MLPRegressor(hidden_layer_sizes=(100,), activation='relu', max_iter=1000, random_state=42)\n",
    "\n",
    "    cv_acc = cross_val_score(mlp_clf, X_train_pca, gen_train, cv=5)\n",
    "    print(\"MLP Gender CV Accuracy:\", np.mean(cv_acc))\n",
    "    cv_mae = cross_val_score(mlp_reg, X_train_pca, age_train, cv=5, scoring='neg_mean_absolute_error')\n",
    "    print(\"MLP Age CV MAE:\", -np.mean(cv_mae))\n",
    "\n",
    "    mlp_clf.fit(X_train_pca, gen_train)\n",
    "    mlp_reg.fit(X_train_pca, age_train)\n",
    "    test_acc = mlp_clf.score(X_test_pca, gen_test)\n",
    "    test_mae = np.mean(np.abs(mlp_reg.predict(X_test_pca) - age_test))\n",
    "    print(\"MLP Gender Test Accuracy:\", test_acc)\n",
    "    print(\"MLP Age Test MAE:\", test_mae)\n",
    "\n",
    "    dump(mlp_clf, f\"models/model1_1/mlp_gender_{name}.joblib\")\n",
    "    dump(mlp_reg, f\"models/model1_1/mlp_age_{name}.joblib\")\n",
    "    print(f\"{name}: MLP modelleri kaydedildi.\")\n",
    "\n",
    "    print(f\"\\n=== {name.upper()} - RANDOM FOREST ===\")\n",
    "    rf_clf = RandomForestClassifier(n_estimators=100, random_state=42)\n",
    "    rf_reg = RandomForestRegressor(n_estimators=100, random_state=42)\n",
    "\n",
    "    cv_acc = cross_val_score(rf_clf, X_train_pca, gen_train, cv=5)\n",
    "    print(\"RF Gender CV Accuracy:\", np.mean(cv_acc))\n",
    "    cv_mae = cross_val_score(rf_reg, X_train_pca, age_train, cv=5, scoring='neg_mean_absolute_error')\n",
    "    print(\"RF Age CV MAE:\", -np.mean(cv_mae))\n",
    "\n",
    "    rf_clf.fit(X_train_pca, gen_train)\n",
    "    rf_reg.fit(X_train_pca, age_train)\n",
    "    test_acc = rf_clf.score(X_test_pca, gen_test)\n",
    "    test_mae = np.mean(np.abs(rf_reg.predict(X_test_pca) - age_test))\n",
    "    print(\"RF Gender Test Accuracy:\", test_acc)\n",
    "    print(\"RF Age Test MAE:\", test_mae)\n",
    "\n",
    "    dump(rf_clf, f\"models/model1_1/rf_gender_{name}.joblib\")\n",
    "    dump(rf_reg, f\"models/model1_1/rf_age_{name}.joblib\")\n",
    "    print(f\"{name}: Random Forest modelleri kaydedildi.\")"
   ]
  },
  {
   "cell_type": "code",
   "execution_count": 8,
   "id": "380cf299",
   "metadata": {},
   "outputs": [],
   "source": [
    "def test_model(X_test, y_age_test, y_gender_test, name='dataset'):\n",
    "    model_dir = f'models/model1_1/'\n",
    "\n",
    "    # Model ve PCA'yı yükle\n",
    "    pca = load(f'{model_dir}pca_{name}.joblib')\n",
    "    X_hog = extract_hog_features(X_test)\n",
    "    X_pca = pca.transform(X_hog)\n",
    "\n",
    "    print(f\"\\n=== [ {name.upper()} ] TEST SONUÇLARI ===\")\n",
    "\n",
    "    # --- SVM + SVR ---\n",
    "    svm = load(f'{model_dir}svm_gender_{name}.joblib')\n",
    "    svr = load(f'{model_dir}svr_age_{name}.joblib')\n",
    "    acc_svm = svm.score(X_pca, y_gender_test)\n",
    "    mae_svr = mean_absolute_error(y_age_test, svr.predict(X_pca))\n",
    "    print(f\"[SVM] Gender Accuracy: {acc_svm:.3f}\")\n",
    "    print(f\"[SVR] Age MAE: {mae_svr:.2f}\")\n",
    "\n",
    "    # --- MLP ---\n",
    "    mlp_clf = load(f'{model_dir}mlp_gender_{name}.joblib')\n",
    "    mlp_reg = load(f'{model_dir}mlp_age_{name}.joblib')\n",
    "    acc_mlp = mlp_clf.score(X_pca, y_gender_test)\n",
    "    mae_mlp = mean_absolute_error(y_age_test, mlp_reg.predict(X_pca))\n",
    "    print(f\"[MLP] Gender Accuracy: {acc_mlp:.3f}\")\n",
    "    print(f\"[MLP] Age MAE: {mae_mlp:.2f}\")\n",
    "\n",
    "    # --- Random Forest ---\n",
    "    rf_clf = load(f'{model_dir}rf_gender_{name}.joblib')\n",
    "    rf_reg = load(f'{model_dir}rf_age_{name}.joblib')\n",
    "    acc_rf = rf_clf.score(X_pca, y_gender_test)\n",
    "    mae_rf = mean_absolute_error(y_age_test, rf_reg.predict(X_pca))\n",
    "    print(f\"[RF]  Gender Accuracy: {acc_rf:.3f}\")\n",
    "    print(f\"[RF]  Age MAE: {mae_rf:.2f}\")"
   ]
  },
  {
   "cell_type": "code",
   "execution_count": 9,
   "id": "309d98ac",
   "metadata": {},
   "outputs": [],
   "source": [
    "# Eğitim verisi\n",
    "X_train = np.load(\"X_train_utkface.npy\", allow_pickle=True)\n",
    "y_age_train = np.load(\"y_age_train_utkface.npy\")\n",
    "y_gen_train = np.load(\"y_gender_train_utkface.npy\")\n",
    "\n",
    "# Test verisi\n",
    "X_test = np.load(\"X_test_utkface.npy\", allow_pickle=True)\n",
    "y_age_test = np.load(\"y_age_test_utkface.npy\")\n",
    "y_gen_test = np.load(\"y_gender_test_utkface.npy\")"
   ]
  },
  {
   "cell_type": "code",
   "execution_count": 10,
   "id": "032d4bf5",
   "metadata": {},
   "outputs": [
    {
     "name": "stdout",
     "output_type": "stream",
     "text": [
      "pca_UTKface_1.joblib kaydedildi.\n",
      "\n",
      "=== UTKFACE_1 - SVM / SVR ===\n"
     ]
    },
    {
     "name": "stderr",
     "output_type": "stream",
     "text": [
      "c:\\Users\\apayd\\AppData\\Local\\Programs\\Python\\Python313\\Lib\\site-packages\\sklearn\\model_selection\\_split.py:805: UserWarning: The least populated class in y has only 1 members, which is less than n_splits=5.\n",
      "  warnings.warn(\n"
     ]
    },
    {
     "name": "stdout",
     "output_type": "stream",
     "text": [
      "SVM Gender CV Accuracy: 0.7529408455427327\n",
      "SVR Age CV MAE: 13.797019645843932\n",
      "SVM Gender Test Accuracy: 0.7574548509029819\n",
      "SVR Age Test MAE: 13.631828385001866\n",
      "UTKface_1: SVM & SVR modelleri kaydedildi.\n",
      "\n",
      "=== UTKFACE_1 - MLP ===\n"
     ]
    },
    {
     "name": "stderr",
     "output_type": "stream",
     "text": [
      "c:\\Users\\apayd\\AppData\\Local\\Programs\\Python\\Python313\\Lib\\site-packages\\sklearn\\model_selection\\_split.py:805: UserWarning: The least populated class in y has only 1 members, which is less than n_splits=5.\n",
      "  warnings.warn(\n"
     ]
    },
    {
     "name": "stdout",
     "output_type": "stream",
     "text": [
      "MLP Gender CV Accuracy: 0.7104598711366931\n"
     ]
    },
    {
     "name": "stderr",
     "output_type": "stream",
     "text": [
      "c:\\Users\\apayd\\AppData\\Local\\Programs\\Python\\Python313\\Lib\\site-packages\\sklearn\\neural_network\\_multilayer_perceptron.py:691: ConvergenceWarning: Stochastic Optimizer: Maximum iterations (1000) reached and the optimization hasn't converged yet.\n",
      "  warnings.warn(\n",
      "c:\\Users\\apayd\\AppData\\Local\\Programs\\Python\\Python313\\Lib\\site-packages\\sklearn\\neural_network\\_multilayer_perceptron.py:691: ConvergenceWarning: Stochastic Optimizer: Maximum iterations (1000) reached and the optimization hasn't converged yet.\n",
      "  warnings.warn(\n",
      "c:\\Users\\apayd\\AppData\\Local\\Programs\\Python\\Python313\\Lib\\site-packages\\sklearn\\neural_network\\_multilayer_perceptron.py:691: ConvergenceWarning: Stochastic Optimizer: Maximum iterations (1000) reached and the optimization hasn't converged yet.\n",
      "  warnings.warn(\n",
      "c:\\Users\\apayd\\AppData\\Local\\Programs\\Python\\Python313\\Lib\\site-packages\\sklearn\\neural_network\\_multilayer_perceptron.py:691: ConvergenceWarning: Stochastic Optimizer: Maximum iterations (1000) reached and the optimization hasn't converged yet.\n",
      "  warnings.warn(\n",
      "c:\\Users\\apayd\\AppData\\Local\\Programs\\Python\\Python313\\Lib\\site-packages\\sklearn\\neural_network\\_multilayer_perceptron.py:691: ConvergenceWarning: Stochastic Optimizer: Maximum iterations (1000) reached and the optimization hasn't converged yet.\n",
      "  warnings.warn(\n"
     ]
    },
    {
     "name": "stdout",
     "output_type": "stream",
     "text": [
      "MLP Age CV MAE: 17.948794555995327\n"
     ]
    },
    {
     "name": "stderr",
     "output_type": "stream",
     "text": [
      "c:\\Users\\apayd\\AppData\\Local\\Programs\\Python\\Python313\\Lib\\site-packages\\sklearn\\neural_network\\_multilayer_perceptron.py:691: ConvergenceWarning: Stochastic Optimizer: Maximum iterations (1000) reached and the optimization hasn't converged yet.\n",
      "  warnings.warn(\n",
      "c:\\Users\\apayd\\AppData\\Local\\Programs\\Python\\Python313\\Lib\\site-packages\\sklearn\\model_selection\\_split.py:805: UserWarning: The least populated class in y has only 1 members, which is less than n_splits=5.\n",
      "  warnings.warn(\n"
     ]
    },
    {
     "name": "stdout",
     "output_type": "stream",
     "text": [
      "MLP Gender Test Accuracy: 0.7162956740865183\n",
      "MLP Age Test MAE: 16.824315253816067\n",
      "UTKface_1: MLP modelleri kaydedildi.\n",
      "\n",
      "=== UTKFACE_1 - RANDOM FOREST ===\n",
      "RF Gender CV Accuracy: 0.6865675556124261\n",
      "RF Age CV MAE: 14.476848103024466\n",
      "RF Gender Test Accuracy: 0.6955060898782024\n",
      "RF Age Test MAE: 14.234029137826335\n",
      "UTKface_1: Random Forest modelleri kaydedildi.\n"
     ]
    }
   ],
   "source": [
    "hog_and_pca(X_train, y_age_train, y_gen_train, name=\"UTKface_1\")\n",
    "pca = load(\"models/model1_1/pca_UTKface_1.joblib\")\n",
    "\n",
    "X_train_hog = extract_hog_features(X_train)\n",
    "X_test_hog = extract_hog_features(X_test)\n",
    "\n",
    "X_train_pca = pca.transform(X_train_hog)\n",
    "X_test_pca = pca.transform(X_test_hog)\n",
    "\n",
    "train_and_save_models(X_train_pca, X_test_pca, y_gen_train, y_gen_test, y_age_train, y_age_test, name=\"UTKface_1\")"
   ]
  },
  {
   "cell_type": "code",
   "execution_count": 11,
   "id": "08816c48",
   "metadata": {},
   "outputs": [
    {
     "name": "stdout",
     "output_type": "stream",
     "text": [
      "\n",
      "=== [ UTKFACE_1 ] TEST SONUÇLARI ===\n",
      "[SVM] Gender Accuracy: 0.757\n",
      "[SVR] Age MAE: 13.63\n",
      "[MLP] Gender Accuracy: 0.716\n",
      "[MLP] Age MAE: 16.82\n",
      "[RF]  Gender Accuracy: 0.696\n",
      "[RF]  Age MAE: 14.23\n"
     ]
    }
   ],
   "source": [
    "test_model(X_test, y_age_test, y_gen_test, name=\"UTKface_1\")"
   ]
  },
  {
   "cell_type": "code",
   "execution_count": null,
   "id": "ed78e798",
   "metadata": {},
   "outputs": [],
   "source": [
    "# Eğitim verisi\n",
    "X_train = np.load(\"X_train_imdbwiki.npy\", allow_pickle=True)\n",
    "y_age_train = np.load(\"y_age_train_imdbwiki.npy\")\n",
    "y_gen_train = np.load(\"y_gender_train_imdbwiki.npy\")\n",
    "\n",
    "# Test verisi\n",
    "X_test = np.load(\"X_test_imdbwiki.npy\", allow_pickle=True)\n",
    "y_age_test = np.load(\"y_age_test_imdbwiki.npy\")\n",
    "y_gen_test = np.load(\"y_gender_test_imdbwiki.npy\")"
   ]
  },
  {
   "cell_type": "code",
   "execution_count": 13,
   "id": "a48bf806",
   "metadata": {},
   "outputs": [
    {
     "name": "stdout",
     "output_type": "stream",
     "text": [
      "pca_imdb_wiki_1.joblib kaydedildi.\n",
      "\n",
      "=== IMDB_WIKI_1 - SVM / SVR ===\n",
      "SVM Gender CV Accuracy: 0.72725\n",
      "SVR Age CV MAE: 4662.435734554407\n",
      "SVM Gender Test Accuracy: 0.74175\n",
      "SVR Age Test MAE: 4795.827861486058\n",
      "imdb_wiki_1: SVM & SVR modelleri kaydedildi.\n",
      "\n",
      "=== IMDB_WIKI_1 - MLP ===\n",
      "MLP Gender CV Accuracy: 0.6445624999999999\n"
     ]
    },
    {
     "name": "stderr",
     "output_type": "stream",
     "text": [
      "c:\\Users\\apayd\\AppData\\Local\\Programs\\Python\\Python313\\Lib\\site-packages\\sklearn\\neural_network\\_multilayer_perceptron.py:691: ConvergenceWarning: Stochastic Optimizer: Maximum iterations (1000) reached and the optimization hasn't converged yet.\n",
      "  warnings.warn(\n",
      "c:\\Users\\apayd\\AppData\\Local\\Programs\\Python\\Python313\\Lib\\site-packages\\sklearn\\neural_network\\_multilayer_perceptron.py:691: ConvergenceWarning: Stochastic Optimizer: Maximum iterations (1000) reached and the optimization hasn't converged yet.\n",
      "  warnings.warn(\n",
      "c:\\Users\\apayd\\AppData\\Local\\Programs\\Python\\Python313\\Lib\\site-packages\\sklearn\\neural_network\\_multilayer_perceptron.py:691: ConvergenceWarning: Stochastic Optimizer: Maximum iterations (1000) reached and the optimization hasn't converged yet.\n",
      "  warnings.warn(\n",
      "c:\\Users\\apayd\\AppData\\Local\\Programs\\Python\\Python313\\Lib\\site-packages\\sklearn\\neural_network\\_multilayer_perceptron.py:691: ConvergenceWarning: Stochastic Optimizer: Maximum iterations (1000) reached and the optimization hasn't converged yet.\n",
      "  warnings.warn(\n",
      "c:\\Users\\apayd\\AppData\\Local\\Programs\\Python\\Python313\\Lib\\site-packages\\sklearn\\neural_network\\_multilayer_perceptron.py:691: ConvergenceWarning: Stochastic Optimizer: Maximum iterations (1000) reached and the optimization hasn't converged yet.\n",
      "  warnings.warn(\n"
     ]
    },
    {
     "name": "stdout",
     "output_type": "stream",
     "text": [
      "MLP Age CV MAE: 185886.4781479259\n"
     ]
    },
    {
     "name": "stderr",
     "output_type": "stream",
     "text": [
      "c:\\Users\\apayd\\AppData\\Local\\Programs\\Python\\Python313\\Lib\\site-packages\\sklearn\\neural_network\\_multilayer_perceptron.py:691: ConvergenceWarning: Stochastic Optimizer: Maximum iterations (1000) reached and the optimization hasn't converged yet.\n",
      "  warnings.warn(\n"
     ]
    },
    {
     "name": "stdout",
     "output_type": "stream",
     "text": [
      "MLP Gender Test Accuracy: 0.65075\n",
      "MLP Age Test MAE: 36952.376708287506\n",
      "imdb_wiki_1: MLP modelleri kaydedildi.\n",
      "\n",
      "=== IMDB_WIKI_1 - RANDOM FOREST ===\n",
      "RF Gender CV Accuracy: 0.6873750000000001\n",
      "RF Age CV MAE: 4799.259178978527\n",
      "RF Gender Test Accuracy: 0.69475\n",
      "RF Age Test MAE: 4880.149063410822\n",
      "imdb_wiki_1: Random Forest modelleri kaydedildi.\n"
     ]
    }
   ],
   "source": [
    "hog_and_pca(X_train, y_age_train, y_gen_train, name=\"imdb_wiki_1\")\n",
    "pca = load(\"models/model1_1/pca_imdb_wiki_1.joblib\")\n",
    "\n",
    "X_train_hog = extract_hog_features(X_train)\n",
    "X_test_hog = extract_hog_features(X_test)\n",
    "\n",
    "X_train_pca = pca.transform(X_train_hog)\n",
    "X_test_pca = pca.transform(X_test_hog)\n",
    "\n",
    "train_and_save_models(X_train_pca, X_test_pca, y_gen_train, y_gen_test, y_age_train, y_age_test, name=\"imdb_wiki_1\")"
   ]
  },
  {
   "cell_type": "code",
   "execution_count": 14,
   "id": "c141a874",
   "metadata": {},
   "outputs": [
    {
     "name": "stdout",
     "output_type": "stream",
     "text": [
      "\n",
      "=== [ IMDB_WIKI_1 ] TEST SONUÇLARI ===\n",
      "[SVM] Gender Accuracy: 0.742\n",
      "[SVR] Age MAE: 4795.83\n",
      "[MLP] Gender Accuracy: 0.651\n",
      "[MLP] Age MAE: 36952.38\n",
      "[RF]  Gender Accuracy: 0.695\n",
      "[RF]  Age MAE: 4880.15\n"
     ]
    }
   ],
   "source": [
    "test_model(X_test, y_age_test, y_gen_test, name=\"imdb_wiki_1\")"
   ]
  }
 ],
 "metadata": {
  "kernelspec": {
   "display_name": "Python 3",
   "language": "python",
   "name": "python3"
  },
  "language_info": {
   "codemirror_mode": {
    "name": "ipython",
    "version": 3
   },
   "file_extension": ".py",
   "mimetype": "text/x-python",
   "name": "python",
   "nbconvert_exporter": "python",
   "pygments_lexer": "ipython3",
   "version": "3.13.5"
  }
 },
 "nbformat": 4,
 "nbformat_minor": 5
}
